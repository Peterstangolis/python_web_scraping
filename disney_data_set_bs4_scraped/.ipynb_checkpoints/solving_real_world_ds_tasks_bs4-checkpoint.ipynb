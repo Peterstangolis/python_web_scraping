{
 "cells": [
  {
   "cell_type": "markdown",
   "metadata": {},
   "source": [
    "## Disney Data set Creation (w/ Python Beautiful Soup)\n",
    "\n",
    "#### Scrape and clean a list of disney wikidpedia pages to create a data set for further analysis\n",
    "\n",
    "### Tutorial by: Keith Galli\n",
    "[Tutorial YouTube Link](https://www.youtube.com/watch?v=Ewgy-G9cmbg&list=PLFCB5Dp81iNVmuoGIqcT5oF4K-7kTI5vp&index=2)\n",
    "\n",
    "\n",
    "- robots.txt = tells us what we can do on a website"
   ]
  },
  {
   "cell_type": "markdown",
   "metadata": {},
   "source": [
    "### Import the required libraries"
   ]
  },
  {
   "cell_type": "code",
   "execution_count": 5,
   "metadata": {},
   "outputs": [],
   "source": [
    "import requests\n",
    "from bs4 import BeautifulSoup as bs\n",
    "\n",
    "import pandas as pd\n",
    "import json\n",
    "import pickle"
   ]
  },
  {
   "cell_type": "code",
   "execution_count": 19,
   "metadata": {},
   "outputs": [],
   "source": [
    "url = \"https://en.wikipedia.org/wiki/List_of_Walt_Disney_Pictures_films\"\n",
    "url_ts = \"https://en.wikipedia.org/wiki/Toy_Story_3\""
   ]
  },
  {
   "cell_type": "code",
   "execution_count": 20,
   "metadata": {},
   "outputs": [],
   "source": [
    "r = requests.get(url_ts)\n",
    "\n",
    "# Convert to beautiful soup object\n",
    "soup = bs(r.content)\n",
    "\n",
    "content = soup.prettify()\n"
   ]
  },
  {
   "cell_type": "code",
   "execution_count": 21,
   "metadata": {},
   "outputs": [],
   "source": [
    "info_box = soup.find(class_ = \"infobox vevent\")\n",
    "info_rows = info_box.find_all(\"tr\")\n"
   ]
  },
  {
   "cell_type": "code",
   "execution_count": 212,
   "metadata": {},
   "outputs": [],
   "source": [
    "def get_content_value(row_data):\n",
    "    if row_data.find(\"li\"):\n",
    "        return [li.get_text(\" \", strip=True).replace(\"\\xa0\", \"\") for li in row_data.find_all(\"li\")]\n",
    "    else:\n",
    "        return row_data.get_text(\" \", strip=True).replace(\"\\xa0\", \"\")\n",
    "\n",
    "movie_info = {}\n",
    "\n",
    "for index, row in enumerate(info_rows):\n",
    "    if index == 0:\n",
    "        movie_info[\"title\"] = row.find(\"th\").get_text(\" \", strip=True)\n",
    "    elif index == 1: \n",
    "        continue\n",
    "    else:\n",
    "        content_key = row.find(\"th\").get_text(\" \", strip=True)\n",
    "        content_value = get_content_value(row.find(\"td\"))\n",
    "        movie_info[content_key] = content_value\n",
    "        \n",
    "\n",
    "\n"
   ]
  },
  {
   "cell_type": "markdown",
   "metadata": {},
   "source": [
    "## 2. Get the info box for all movies"
   ]
  },
  {
   "cell_type": "code",
   "execution_count": 35,
   "metadata": {},
   "outputs": [],
   "source": [
    "r = requests.get(url)\n",
    "\n",
    "# Convert to beautiful soup object\n",
    "soup = bs(r.content)\n",
    "\n",
    "content = soup.prettify()\n",
    "\n",
    "movies = soup.select(\".wikitable.sortable i\")"
   ]
  },
  {
   "cell_type": "code",
   "execution_count": 40,
   "metadata": {},
   "outputs": [
    {
     "name": "stdout",
     "output_type": "stream",
     "text": [
      "/wiki/Academy_Award_Review_of_Walt_Disney_Cartoons\n",
      "\n",
      "Academy Award Review of Walt Disney Cartoons\n"
     ]
    }
   ],
   "source": [
    "print(movies[0].a[\"href\"])\n",
    "print()\n",
    "print(movies[0].a[\"title\"])"
   ]
  },
  {
   "cell_type": "code",
   "execution_count": 70,
   "metadata": {},
   "outputs": [],
   "source": [
    "def get_content_value(row_data):\n",
    "    if row_data.find(\"li\"):\n",
    "        return [li.get_text(\" \", strip=True).replace(\"\\xa0\", \"\") for li in row_data.find_all(\"li\")]\n",
    "    elif row_data.find(\"br\"):\n",
    "        return [text for text in row_data.stripped_strings]\n",
    "    else:\n",
    "        return row_data.get_text(\" \", strip=True).replace(\"\\xa0\", \"\")\n",
    "    \n",
    "def clean_tags(soup):\n",
    "    for tag in soup.find_all([\"sup\", \"span\"]):\n",
    "        tag.decompose()    \n",
    "    \n",
    "def get_info_box(url):\n",
    "    \n",
    "    r = requests.get(url)\n",
    "    soup = bs(r.content)\n",
    "    \n",
    "    info_box = soup.find(class_ = \"infobox vevent\")\n",
    "    info_rows = info_box.find_all(\"tr\")\n",
    "    \n",
    "    clean_tags(soup)\n",
    "\n",
    "    movie_info = {}\n",
    "    for index, row in enumerate(info_rows):\n",
    "        if index == 0:\n",
    "            movie_info[\"title\"] = row.find(\"th\").get_text(\" \", strip=True)\n",
    "        else:\n",
    "            header = row.find('th')\n",
    "            if header:\n",
    "                content_key = row.find(\"th\").get_text(\" \", strip=True)\n",
    "                content_value = get_content_value(row.find(\"td\"))\n",
    "                movie_info[content_key] = content_value\n",
    "            \n",
    "    return movie_info\n"
   ]
  },
  {
   "cell_type": "code",
   "execution_count": 71,
   "metadata": {},
   "outputs": [
    {
     "name": "stdout",
     "output_type": "stream",
     "text": [
      "Zorro the Avenger\n",
      "'NoneType' object has no attribute 'find'\n",
      "The Sign of Zorro\n",
      "'NoneType' object has no attribute 'find'\n",
      "True-Life Adventures\n",
      "'NoneType' object has no attribute 'find_all'\n"
     ]
    }
   ],
   "source": [
    "r = requests.get(\"https://en.wikipedia.org/wiki/List_of_Walt_Disney_Pictures_films\")\n",
    "soup = bs(r.content)\n",
    "movies = soup.select(\".wikitable.sortable i a\")\n",
    "\n",
    "base_path  = \"https://en.wikipedia.org\"\n",
    "\n",
    "movie_info_list = []\n",
    "\n",
    "for index, movie in enumerate(movies):\n",
    "    try:\n",
    "        relative_path = movie['href']\n",
    "        full_path = base_path + relative_path\n",
    "        title = movie['title']\n",
    "        \n",
    "        movie_info_list.append(get_info_box(full_path))\n",
    "        \n",
    "        \n",
    "    except Exception as e:\n",
    "            print(movie.get_text())\n",
    "            print(e)\n",
    "        \n",
    "def clean_tags(soup):\n",
    "    for tag in soup.find_all(\"sup\"):\n",
    "        tag.decompose()"
   ]
  },
  {
   "cell_type": "code",
   "execution_count": null,
   "metadata": {},
   "outputs": [],
   "source": []
  },
  {
   "cell_type": "markdown",
   "metadata": {},
   "source": [
    "## Save / Reload Movie Data"
   ]
  },
  {
   "cell_type": "code",
   "execution_count": 2,
   "metadata": {},
   "outputs": [],
   "source": [
    "import json\n",
    "\n",
    "def save_data(title, data):\n",
    "    with open(title, 'w', encoding=\"utf-8\")as f:\n",
    "        json.dump(data, f, ensure_ascii=False, indent=2)\n",
    "        "
   ]
  },
  {
   "cell_type": "code",
   "execution_count": 3,
   "metadata": {},
   "outputs": [],
   "source": [
    "\n",
    "def load_data(title):\n",
    "    with open(title, encoding=\"utf-8\") as f:\n",
    "        return json.load(f)"
   ]
  },
  {
   "cell_type": "code",
   "execution_count": 74,
   "metadata": {},
   "outputs": [],
   "source": [
    "save_data(\"disney_data_cleaned.json\", movie_info_list)"
   ]
  },
  {
   "cell_type": "code",
   "execution_count": null,
   "metadata": {},
   "outputs": [],
   "source": []
  },
  {
   "cell_type": "markdown",
   "metadata": {},
   "source": [
    "# 3. Cleaning the scraped data\n",
    "\n",
    "- ~~Clean up references~~\n",
    "- ~~Convert running time into an integer~~\n",
    "- Convert dates into datetime object\n",
    "- ~~SPlit up the long strings~~\n",
    "- ~~Convert budget and box office to numbers~~"
   ]
  },
  {
   "cell_type": "markdown",
   "metadata": {},
   "source": [
    "### Clean up references (remove [1] [2] etc.)"
   ]
  },
  {
   "cell_type": "markdown",
   "metadata": {},
   "source": [
    "### Split up the long strings"
   ]
  },
  {
   "cell_type": "markdown",
   "metadata": {},
   "source": [
    "### Convert running time into an interger"
   ]
  },
  {
   "cell_type": "code",
   "execution_count": 77,
   "metadata": {},
   "outputs": [],
   "source": [
    "#[movie.get(\"Running time\", \"N/A\") for movie in movie_info_list]"
   ]
  },
  {
   "cell_type": "code",
   "execution_count": 83,
   "metadata": {},
   "outputs": [],
   "source": [
    "def minutes_to_integer(running_time):\n",
    "    if running_time == \"N/A\":\n",
    "        return None\n",
    "    \n",
    "    if isinstance(running_time, list):\n",
    "        entry = running_time[0]\n",
    "        return entry.split(\" \")[0]\n",
    "    else:\n",
    "        return running_time.split(\" \")[0]\n",
    "    \n",
    "\n",
    "for movie in movie_info_list:\n",
    "    movie[\"Running time (int)\"] = minutes_to_integer(movie.get(\"Running time\", \"N/A\"))"
   ]
  },
  {
   "cell_type": "code",
   "execution_count": 84,
   "metadata": {},
   "outputs": [
    {
     "name": "stdout",
     "output_type": "stream",
     "text": [
      "['41', '83', '88', '126', '74', '64', '70', '42', '65', '71', '75', '94', '73', '75', '82', '68', '74', '96', '75', '84', '77', '92', '69', '81', '60', '127', '92', '76', '75', '73', '85', '81', '70', '90', '80', '75', '83', '83', '72', '97', '75', '104', '93', '105', '95', '97', '134', '69', '92', '126', '79', '97', '128', '74', '91', '105', '98', '130', '89', '93', '67', '98', '100', '118', '103', '110', '80', '79', '91', '91', '97', '118', '139', '92', '131', '87', '116', '93', '110', '110', '131', '101', '108', '84', '78', '75', '164', '106', '110', '99', '113', '108', '112', '93', '91', '93', '100', '100', '79', '96', '113', '89', '118', '92', '88', '92', '87', '93', '93', '93', '90', '83', '96', '88', '89', '91', '93', '92', '97', '100', '100', '89', '91', '112', '115', '95', '91', '95', '104', '74', '48', '77', '104', '128', '101', '94', '104', '90', '100', '88', '93', '98', '100', '112', '84', '98', '97', '114', '96', '100', '109', '83', '90', '107', '96', '103', '91', '95', '105', '113', '80', '101', '89', '74', '90', '89', '110', '74', '93', '84', '83', '69', '77', '107', '93', '88', '108', '84', '121', '89', '104', '90', '86', '84', '108', '107', '96', '98', '105', '108', '94', '106', '102', '88', '102', '102', '97', '111', '100', '96', '98', '78', '81', '108', '89', '99', '89', '81', '92', '100', '89', '79', '91', '101', '104', '103', '86', '105', '93', '92', '98', '95', '93', '87', '93', '87', '128', '86', '95', '114', '93', '83', '83', '88', '78', '112', '92', '74', '77', '82', '104', '113', '100', '78', '83', '96', '115', '86', '92', '99', '73', '128', '85', '88', '125', '96', '104', '95', '72', '75', '61', '117', '94', '100', '143', '97', '85', '86', '50', '74', '136', '89', '76', '40', '120', '84', '113', '115', '131', '100', '68', '95', '97', '101', '119', '100', '76', '120', '81', '143', '106', '40', '120', '99', '82', '117', '151', '104', '76', '92', '95', '94', '168', '111', '82', '87', '110', '107', '124', '74', '83', '150', '97', '91', '100', '111', '96', '99', '76', '98', '97', '99', '96', None, '90', '101', None, '101', '96', '88', '97', '108', '104', '116', '103', '109', '115', '74', '123', '108', '100', '101', '125', None, '90', '88', '109', '89', '104', '137', '106', '69', '103', '95', '132', '77', '96', '93', '104', '87', '101', '130', '77', '104', '149', '92', '102', '125', '107', '77', '124', '97', '84minutes', '127', '81', '102', '124', '129', '106', '82', '130', '94', '154', '94', '117', '108', '106', '98', '114', '97', '117', '103', '124', '107', '161', '80', '129', '76', '129', '102', None, '162', '105', '109', '118', '104', '99', '112', '131', '112', '76', '128', '100', '118', '119', '104', '100', '103', '114', '99', '102', '107', '78', '89', '95', '160', '85', '100', '95', '115', None, None, '122', '100', None, None, None, None, None, None, '77', None, None, None]\n"
     ]
    }
   ],
   "source": [
    "print([movie.get(\"Running time (int)\", \"N/A\") for movie in movie_info_list])"
   ]
  },
  {
   "cell_type": "markdown",
   "metadata": {},
   "source": [
    "### Convert budget and box office to numbers"
   ]
  },
  {
   "cell_type": "code",
   "execution_count": 175,
   "metadata": {},
   "outputs": [],
   "source": [
    "import re\n",
    "\n",
    "amounts = r\"thousand|million|billion\"\n",
    "number = r\"\\d+(,\\d{3})*\\.*\\d*\"\n",
    "\n",
    "word_re = rf\"\\${number}(-|\\sto\\s|–)?({number})?\\s({amounts})\"\n",
    "value_re = rf\"\\${number}\"\n",
    "\n",
    "def word_to_value(word):\n",
    "    \n",
    "    value_dict = {\"thousand\" : 1000, \"million\": 1000000, \"billion\": 1000000000}\n",
    "    return value_dict[word]\n",
    "\n",
    "def parse_word_syntax(string):\n",
    "    \n",
    "    value_string = re.search(number, string).group()\n",
    "    value = float(value_string.replace(\",\", \"\"))\n",
    "    word = re.search(amounts, string, flags=re.I).group().lower()\n",
    "    word_value = word_to_value(word)\n",
    "    return value * word_value\n",
    "    \n",
    "\n",
    "def parse_value_syntax(string):\n",
    "        \n",
    "    value_string = re.search(number, string).group()\n",
    "    value = float(value_string.replace(\",\", \"\"))\n",
    "    return value\n",
    "\n",
    "\n",
    "def extract_number(money):\n",
    "    \n",
    "    if money == \"N/A\":\n",
    "        return None\n",
    "    \n",
    "    if isinstance(money, list):\n",
    "        money = money[0]\n",
    "    \n",
    "    word_syntax = re.search(word_re, money, flags=re.I)\n",
    "    value_syntax = re.search(value_re, money)\n",
    "    \n",
    "    if word_syntax:\n",
    "        return parse_word_syntax(word_syntax.group())\n",
    "        \n",
    "    elif value_syntax:\n",
    "        return parse_value_syntax(value_syntax.group())\n",
    "    \n",
    "    else:\n",
    "        return None\n",
    "\n",
    "    \n",
    " "
   ]
  },
  {
   "cell_type": "code",
   "execution_count": 176,
   "metadata": {},
   "outputs": [
    {
     "name": "stdout",
     "output_type": "stream",
     "text": [
      "245000000000.0\n"
     ]
    }
   ],
   "source": [
    "print(extract_number(\"$245 Billion\"))\n",
    "    "
   ]
  },
  {
   "cell_type": "code",
   "execution_count": 177,
   "metadata": {},
   "outputs": [],
   "source": [
    "for movie in movie_info_list:\n",
    "    movie[\"Budget Value ($)\"] = extract_number(movie.get(\"Budget\", \"N/A\"))\n",
    "    movie[\"Box Office ($)\"] = extract_number(movie.get(\"Box office\", \"N/A\"))"
   ]
  },
  {
   "cell_type": "code",
   "execution_count": 178,
   "metadata": {},
   "outputs": [
    {
     "data": {
      "text/plain": [
       "{'title': 'A Wrinkle in Time',\n",
       " 'Directed by': 'Ava DuVernay',\n",
       " 'Produced by': ['Jim Whitaker', 'Catherine Hand'],\n",
       " 'Screenplay by': ['Jennifer Lee', 'Jeff Stockwell'],\n",
       " 'Based on': ['A Wrinkle in Time', 'by', \"Madeleine L'Engle\"],\n",
       " 'Starring': ['Oprah Winfrey',\n",
       "  'Reese Witherspoon',\n",
       "  'Mindy Kaling',\n",
       "  'Levi Miller',\n",
       "  'Storm Reid',\n",
       "  'Gugu Mbatha-Raw',\n",
       "  'Michael Peña',\n",
       "  'Zach Galifianakis',\n",
       "  'Chris Pine'],\n",
       " 'Music by': 'Ramin Djawadi',\n",
       " 'Cinematography': 'Tobias A. Schliessler',\n",
       " 'Edited by': 'Spencer Averick',\n",
       " 'Production companies': ['Walt Disney Pictures', 'Whitaker Entertainment'],\n",
       " 'Distributed by': ['Walt Disney Studios', 'Motion Pictures'],\n",
       " 'Release date': ['February26,2018 ( El Capitan Theatre )',\n",
       "  'March9,2018 (United States)'],\n",
       " 'Running time': '109 minutes',\n",
       " 'Country': 'United States',\n",
       " 'Language': 'English',\n",
       " 'Budget': '$100–130 million',\n",
       " 'Box office': '$133.4 million',\n",
       " 'Running time (int)': '109',\n",
       " 'Budget Value ($)': 100000000.0,\n",
       " 'Box Office ($)': 133400000.0}"
      ]
     },
     "execution_count": 178,
     "metadata": {},
     "output_type": "execute_result"
    }
   ],
   "source": [
    "movie_info_list[-41]"
   ]
  },
  {
   "cell_type": "markdown",
   "metadata": {},
   "source": [
    "## Convert dates into datetimes"
   ]
  },
  {
   "cell_type": "code",
   "execution_count": 39,
   "metadata": {},
   "outputs": [],
   "source": [
    "# Convert i.e. June 28, 1940\n",
    "from datetime import datetime"
   ]
  },
  {
   "cell_type": "code",
   "execution_count": 38,
   "metadata": {},
   "outputs": [],
   "source": [
    "dates = [movie.get(\"Release date\", \"N/A\") for movie in movie_info_list]\n",
    "\n",
    "\n",
    "def clean_date(date):\n",
    "    return date.split(\"(\")[0].strip()\n",
    "\n",
    "\n",
    "def date_conversion(date):\n",
    "    if isinstance(date, list):\n",
    "        date = date[0]\n",
    "        \n",
    "    if date == \"N/A\":\n",
    "        return None\n",
    "    \n",
    "        \n",
    "    date_str = clean_date(date)\n",
    "    fmts = [\"%B, %d, %Y\", \"%B%d,%Y\", \"%d%B%Y\"]\n",
    "    \n",
    "    for fmt in fmts:\n",
    "        try:\n",
    "            return datetime.strptime(date_str, fmt)\n",
    "        except:\n",
    "            pass\n",
    "    return None\n",
    "    \n",
    "    \n"
   ]
  },
  {
   "cell_type": "code",
   "execution_count": 197,
   "metadata": {},
   "outputs": [],
   "source": [
    "for movie in movie_info_list:\n",
    "    movie[\"Relase date (datetime)\"] = date_conversion(movie.get(\"Release date\", \"N\\A\"))"
   ]
  },
  {
   "cell_type": "code",
   "execution_count": 199,
   "metadata": {},
   "outputs": [
    {
     "data": {
      "text/plain": [
       "{'title': 'Rob Roy, the Highland Rogue',\n",
       " 'Directed by': 'Harold French',\n",
       " 'Produced by': ['Perce Pearce', 'Walt Disney'],\n",
       " 'Written by': 'Lawrence Edward Watkin',\n",
       " 'Starring': ['Richard Todd',\n",
       "  'Glynis Johns',\n",
       "  'James Robertson Justice',\n",
       "  'Michael Gough',\n",
       "  'Finlay Currie',\n",
       "  'Geoffrey Keen'],\n",
       " 'Music by': 'Cedric Thorpe Davie',\n",
       " 'Cinematography': 'Guy Green',\n",
       " 'Edited by': 'Geoffrey Foot',\n",
       " 'Production company': 'Walt Disney Productions',\n",
       " 'Distributed by': 'RKO Radio Pictures',\n",
       " 'Release date': ['26October1953 (Premiere- London )', '4February1954 ( US )'],\n",
       " 'Running time': '81 minutes',\n",
       " 'Country': ['United Kingdom', 'United States'],\n",
       " 'Language': 'English',\n",
       " 'Budget': '$1.8 million',\n",
       " 'Running time (int)': '81',\n",
       " 'Budget Value ($)': 1800000.0,\n",
       " 'Box Office ($)': None,\n",
       " 'Relase date (datetime)': datetime.datetime(1953, 10, 26, 0, 0)}"
      ]
     },
     "execution_count": 199,
     "metadata": {},
     "output_type": "execute_result"
    }
   ],
   "source": [
    "movie_info_list[23]"
   ]
  },
  {
   "cell_type": "code",
   "execution_count": 202,
   "metadata": {},
   "outputs": [],
   "source": [
    "#save_data(\"disney_movie_data_cleaned201\", movie_info_list)"
   ]
  },
  {
   "cell_type": "code",
   "execution_count": 33,
   "metadata": {},
   "outputs": [],
   "source": [
    "# Save the object using 'pickle'\n",
    "\n",
    "import pickle\n",
    "\n",
    "def save_data_pickle(name, data):\n",
    "    with open(name, 'wb') as f:\n",
    "        pickle.dump(data, f)\n",
    "    \n"
   ]
  },
  {
   "cell_type": "code",
   "execution_count": 34,
   "metadata": {},
   "outputs": [],
   "source": [
    "def load_data_pickle(name):\n",
    "    with open(name, 'rb') as f:\n",
    "        return pickle.load(f)\n",
    "    "
   ]
  },
  {
   "cell_type": "code",
   "execution_count": 209,
   "metadata": {},
   "outputs": [],
   "source": [
    "save_data_pickle('disney_movie_data_cleaned_201.pickle', movie_info_list)"
   ]
  },
  {
   "cell_type": "code",
   "execution_count": 46,
   "metadata": {},
   "outputs": [],
   "source": [
    "movie_info_list = load_data_pickle('disney_movie_data_cleaned_201.pickle')\n"
   ]
  },
  {
   "cell_type": "markdown",
   "metadata": {},
   "source": [
    "## Attach IMBD/Rotten Tomatoes Scores"
   ]
  },
  {
   "cell_type": "code",
   "execution_count": 1,
   "metadata": {},
   "outputs": [],
   "source": [
    "# OMDb API: \n",
    "import os\n",
    "import urllib\n",
    "\n",
    "api_key = os.environ.get(\"PRIVATE_API_KEY\")\n"
   ]
  },
  {
   "cell_type": "code",
   "execution_count": 2,
   "metadata": {},
   "outputs": [],
   "source": [
    "OMDb = \"http://www.omdbapi.com/?apikey=[ ]&\"\n",
    "base_url = \"http://www.omdbapi.com/\"\n",
    "\n",
    "#os.environ.get['OMDB_API_KEY']\n",
    "\n",
    "\n",
    "def get_omdb_info(title):\n",
    "    base_url = \"http://www.omdbapi.com/?\"\n",
    "    # Place your key into an environment variable then access it below:\n",
    "    parameters = {\"apikey\" : api_key, 't': title}\n",
    "    params_encoded = urllib.parse.urlencode(parameters)\n",
    "    full_url = base_url + params_encoded\n",
    "    return requests.get(full_url).json()\n",
    "\n",
    "def get_rotten_tomato_score(omdb_info):\n",
    "    ratings = omdb_info.get(\"Ratings\", [])\n",
    "    for rating in ratings:\n",
    "        if rating[\"Source\"] == \"Rotteon Tomatoes\":\n",
    "            return rating[\"Value\"]\n",
    "    return None\n",
    "    "
   ]
  },
  {
   "cell_type": "code",
   "execution_count": null,
   "metadata": {},
   "outputs": [],
   "source": []
  },
  {
   "cell_type": "code",
   "execution_count": 3,
   "metadata": {},
   "outputs": [
    {
     "ename": "NameError",
     "evalue": "name 'movie_info_list' is not defined",
     "output_type": "error",
     "traceback": [
      "\u001b[1;31m---------------------------------------------------------------------------\u001b[0m",
      "\u001b[1;31mNameError\u001b[0m                                 Traceback (most recent call last)",
      "\u001b[1;32m<ipython-input-3-c834fa28cd39>\u001b[0m in \u001b[0;36m<module>\u001b[1;34m\u001b[0m\n\u001b[1;32m----> 1\u001b[1;33m \u001b[1;32mfor\u001b[0m \u001b[0mmovie\u001b[0m \u001b[1;32min\u001b[0m \u001b[0mmovie_info_list\u001b[0m\u001b[1;33m:\u001b[0m\u001b[1;33m\u001b[0m\u001b[1;33m\u001b[0m\u001b[0m\n\u001b[0m\u001b[0;32m      2\u001b[0m     \u001b[0mtitle\u001b[0m \u001b[1;33m=\u001b[0m \u001b[0mmovie\u001b[0m\u001b[1;33m[\u001b[0m\u001b[1;34m\"title\"\u001b[0m\u001b[1;33m]\u001b[0m\u001b[1;33m\u001b[0m\u001b[1;33m\u001b[0m\u001b[0m\n\u001b[0;32m      3\u001b[0m     \u001b[0momdb_info\u001b[0m \u001b[1;33m=\u001b[0m \u001b[0mget_omdb_info\u001b[0m\u001b[1;33m(\u001b[0m\u001b[0mtitle\u001b[0m\u001b[1;33m)\u001b[0m\u001b[1;33m\u001b[0m\u001b[1;33m\u001b[0m\u001b[0m\n\u001b[0;32m      4\u001b[0m     \u001b[0mmovie\u001b[0m\u001b[1;33m[\u001b[0m\u001b[1;34m\"imdb\"\u001b[0m\u001b[1;33m]\u001b[0m \u001b[1;33m=\u001b[0m \u001b[0momdb_info\u001b[0m\u001b[1;33m.\u001b[0m\u001b[0mget\u001b[0m\u001b[1;33m(\u001b[0m\u001b[1;34m\"imdbRating\"\u001b[0m\u001b[1;33m,\u001b[0m \u001b[1;32mNone\u001b[0m\u001b[1;33m)\u001b[0m\u001b[1;33m\u001b[0m\u001b[1;33m\u001b[0m\u001b[0m\n\u001b[0;32m      5\u001b[0m     \u001b[0mmovie\u001b[0m\u001b[1;33m[\u001b[0m\u001b[1;34m\"metascore\"\u001b[0m\u001b[1;33m]\u001b[0m \u001b[1;33m=\u001b[0m \u001b[0momdb_info\u001b[0m\u001b[1;33m.\u001b[0m\u001b[0mget\u001b[0m\u001b[1;33m(\u001b[0m\u001b[1;34m\"Metascore\"\u001b[0m\u001b[1;33m,\u001b[0m \u001b[1;32mNone\u001b[0m\u001b[1;33m)\u001b[0m\u001b[1;33m\u001b[0m\u001b[1;33m\u001b[0m\u001b[0m\n",
      "\u001b[1;31mNameError\u001b[0m: name 'movie_info_list' is not defined"
     ]
    }
   ],
   "source": [
    "for movie in movie_info_list:\n",
    "    title = movie[\"title\"]\n",
    "    omdb_info = get_omdb_info(title)\n",
    "    movie[\"imdb\"] = omdb_info.get(\"imdbRating\", None)\n",
    "    movie[\"metascore\"] = omdb_info.get(\"Metascore\", None)\n",
    "    movie[\"rotten_tomatoes\"] = get_rotteon_tomato_score(omdb_info)"
   ]
  },
  {
   "cell_type": "code",
   "execution_count": 51,
   "metadata": {},
   "outputs": [
    {
     "data": {
      "text/plain": [
       "{'title': 'Fantasia',\n",
       " 'Directed by': ['Samuel Armstrong',\n",
       "  'James Algar',\n",
       "  'Bill Roberts',\n",
       "  'Paul Satterfield',\n",
       "  'Ben Sharpsteen',\n",
       "  'David D. Hand',\n",
       "  'Hamilton Luske',\n",
       "  'Jim Handley',\n",
       "  'Ford Beebe',\n",
       "  'T. Hee',\n",
       "  'Norman Ferguson',\n",
       "  'Wilfred Jackson'],\n",
       " 'Produced by': ['Walt Disney', 'Ben Sharpsteen'],\n",
       " 'Story by': ['Joe Grant', 'Dick Huemer'],\n",
       " 'Starring': ['Leopold Stokowski', 'Deems Taylor'],\n",
       " 'Narrated by': 'Deems Taylor',\n",
       " 'Music by': 'See program',\n",
       " 'Cinematography': 'James Wong Howe',\n",
       " 'Production company': 'Walt Disney Productions',\n",
       " 'Distributed by': ['Walt Disney Productions', 'RKO Radio Pictures'],\n",
       " 'Release date': ['November13,1940'],\n",
       " 'Running time': '126 minutes',\n",
       " 'Country': 'United States',\n",
       " 'Language': 'English',\n",
       " 'Budget': '$2.28 million',\n",
       " 'Box office': '$76.4–$83.3 million',\n",
       " 'Running time (int)': '126',\n",
       " 'Budget Value ($)': 2280000.0,\n",
       " 'Box Office ($)': 83300000.0,\n",
       " 'Relase date (datetime)': datetime.datetime(1940, 11, 13, 0, 0),\n",
       " 'imdb': '7.7',\n",
       " 'metascore': '96',\n",
       " 'rotten_tomatoes': None}"
      ]
     },
     "execution_count": 51,
     "metadata": {},
     "output_type": "execute_result"
    }
   ],
   "source": [
    "movie_info_list[3]"
   ]
  },
  {
   "cell_type": "code",
   "execution_count": 52,
   "metadata": {},
   "outputs": [],
   "source": [
    "save_data_pickle(\"disney_movie_data_final\", movie_info_list)"
   ]
  },
  {
   "cell_type": "markdown",
   "metadata": {},
   "source": [
    "## Save data as JSON and CSV"
   ]
  },
  {
   "cell_type": "code",
   "execution_count": 53,
   "metadata": {},
   "outputs": [],
   "source": [
    "movie_info_copy = [movie.copy() for movie in movie_info_list]"
   ]
  },
  {
   "cell_type": "code",
   "execution_count": 57,
   "metadata": {},
   "outputs": [],
   "source": [
    "for movie in movie_info_copy:\n",
    "    current_date = movie[\"Relase date (datetime)\"]\n",
    "    if current_date:\n",
    "        movie[\"Relase date (datetime)\"] = current_date.strftime(\"%B %d, %Y\")\n",
    "    else:\n",
    "        movie[\"Relase date (datetime)\"] = None"
   ]
  },
  {
   "cell_type": "code",
   "execution_count": 61,
   "metadata": {},
   "outputs": [],
   "source": [
    "save_data_pickle(\"disney_date_final.json\", movie_info_copy)"
   ]
  },
  {
   "cell_type": "markdown",
   "metadata": {},
   "source": [
    "### Convert data to CSV"
   ]
  },
  {
   "cell_type": "code",
   "execution_count": 62,
   "metadata": {},
   "outputs": [],
   "source": [
    "df = pd.DataFrame(movie_info_list)"
   ]
  },
  {
   "cell_type": "code",
   "execution_count": 64,
   "metadata": {},
   "outputs": [],
   "source": [
    "df.to_csv(\"disney_movie_final.csv\")"
   ]
  },
  {
   "cell_type": "code",
   "execution_count": null,
   "metadata": {},
   "outputs": [],
   "source": []
  },
  {
   "cell_type": "code",
   "execution_count": null,
   "metadata": {},
   "outputs": [],
   "source": []
  }
 ],
 "metadata": {
  "kernelspec": {
   "display_name": "py37",
   "language": "python",
   "name": "py37"
  },
  "language_info": {
   "codemirror_mode": {
    "name": "ipython",
    "version": 3
   },
   "file_extension": ".py",
   "mimetype": "text/x-python",
   "name": "python",
   "nbconvert_exporter": "python",
   "pygments_lexer": "ipython3",
   "version": "3.7.9"
  }
 },
 "nbformat": 4,
 "nbformat_minor": 4
}
