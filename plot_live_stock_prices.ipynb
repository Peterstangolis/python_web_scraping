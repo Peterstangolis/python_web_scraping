{
 "cells": [
  {
   "cell_type": "markdown",
   "metadata": {},
   "source": [
    "# Plot the Stock Prices"
   ]
  },
  {
   "cell_type": "markdown",
   "metadata": {},
   "source": [
    "### Import the required libraries"
   ]
  },
  {
   "cell_type": "code",
   "execution_count": 1,
   "metadata": {},
   "outputs": [],
   "source": [
    "import pandas as pd\n",
    "import matplotlib.pyplot as plt\n",
    "import matplotlib.animation as animation\n",
    "from matplotlib import style\n",
    "\n",
    "%matplotlib qt"
   ]
  },
  {
   "cell_type": "code",
   "execution_count": 2,
   "metadata": {},
   "outputs": [
    {
     "data": {
      "text/plain": [
       "['Solarize_Light2',\n",
       " '_classic_test_patch',\n",
       " 'bmh',\n",
       " 'classic',\n",
       " 'dark_background',\n",
       " 'fast',\n",
       " 'fivethirtyeight',\n",
       " 'ggplot',\n",
       " 'grayscale',\n",
       " 'seaborn',\n",
       " 'seaborn-bright',\n",
       " 'seaborn-colorblind',\n",
       " 'seaborn-dark',\n",
       " 'seaborn-dark-palette',\n",
       " 'seaborn-darkgrid',\n",
       " 'seaborn-deep',\n",
       " 'seaborn-muted',\n",
       " 'seaborn-notebook',\n",
       " 'seaborn-paper',\n",
       " 'seaborn-pastel',\n",
       " 'seaborn-poster',\n",
       " 'seaborn-talk',\n",
       " 'seaborn-ticks',\n",
       " 'seaborn-white',\n",
       " 'seaborn-whitegrid',\n",
       " 'tableau-colorblind10']"
      ]
     },
     "execution_count": 2,
     "metadata": {},
     "output_type": "execute_result"
    }
   ],
   "source": [
    "style.available"
   ]
  },
  {
   "cell_type": "code",
   "execution_count": 3,
   "metadata": {},
   "outputs": [],
   "source": [
    "style.use('dark_background')\n",
    "\n",
    "fig = plt.figure()\n",
    "ax1 = fig.add_subplot(3, 2, 1)\n",
    "ax2 = fig.add_subplot(3, 2, 2)\n",
    "ax3 = fig.add_subplot(3, 2, 3)\n",
    "ax4 = fig.add_subplot(3, 2, 4)\n",
    "ax5 = fig.add_subplot(3, 2, 5)\n",
    "\n",
    "def animate(i):\n",
    "    df = pd.read_csv('real_time_stock_price.csv')\n",
    "    \n",
    "    ys = df.iloc[1:, 2].values\n",
    "    xs = list(range(1, len(ys)+1))\n",
    "    ax1.clear()\n",
    "    ax1.grid(False)\n",
    "    ax1.plot(xs, ys, color ='#006699')\n",
    "    ax1.set_title(f\"IBM: ${df.iloc[-1, 2]}\", fontsize = 12)\n",
    "    \n",
    "    ys = df.iloc[1:, 3].values\n",
    "    ax2.clear()\n",
    "    ax2.plot(xs, ys, color = '#0071C5')\n",
    "    ax2.grid(False)\n",
    "    ax2.set_title(f\"Intel: ${df.iloc[-1, 3]}\", fontsize = 12)\n",
    "    \n",
    "    ys = df.iloc[1:, 4].values\n",
    "    ax3.clear()\n",
    "    ax3.plot(xs, ys, color='#F25022')\n",
    "    ax3.grid(False)\n",
    "    ax3.set_title(f\"Microsoft: ${df.iloc[-1, 4]}\", fontsize = 12)\n",
    "    \n",
    "    ys = df.iloc[1:, 5].values\n",
    "    ax4.clear()\n",
    "    ax4.plot(xs, ys, color ='#0F9D58')\n",
    "    ax4.grid(False)\n",
    "    ax4.set_title(f\"Google: ${df.iloc[-1, 5]}\", fontsize = 12)\n",
    "    \n",
    "    ys = df.iloc[1:, 6].values\n",
    "    ax5.clear()\n",
    "    ax5.plot(xs, ys, color='#F4B400')\n",
    "    ax5.grid(False)\n",
    "    ax5.set_title(f\"Amazon:  ${df.iloc[-1, 6]}\", fontsize = 12)\n",
    "    \n",
    "\n",
    "ani = animation.FuncAnimation(fig, animate, interval = 2000)\n",
    "plt.axis('off')\n",
    "plt.grid(b=None)\n",
    "plt.tight_layout()\n",
    "plt.show()"
   ]
  },
  {
   "cell_type": "code",
   "execution_count": null,
   "metadata": {},
   "outputs": [],
   "source": []
  },
  {
   "cell_type": "code",
   "execution_count": null,
   "metadata": {},
   "outputs": [],
   "source": []
  }
 ],
 "metadata": {
  "kernelspec": {
   "display_name": "py37",
   "language": "python",
   "name": "py37"
  },
  "language_info": {
   "codemirror_mode": {
    "name": "ipython",
    "version": 3
   },
   "file_extension": ".py",
   "mimetype": "text/x-python",
   "name": "python",
   "nbconvert_exporter": "python",
   "pygments_lexer": "ipython3",
   "version": "3.7.9"
  }
 },
 "nbformat": 4,
 "nbformat_minor": 4
}
